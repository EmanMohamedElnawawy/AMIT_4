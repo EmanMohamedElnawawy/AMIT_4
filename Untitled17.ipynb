{
  "nbformat": 4,
  "nbformat_minor": 0,
  "metadata": {
    "colab": {
      "provenance": []
    },
    "kernelspec": {
      "name": "python3",
      "display_name": "Python 3"
    },
    "language_info": {
      "name": "python"
    }
  },
  "cells": [
    {
      "cell_type": "markdown",
      "source": [
        "Assignment_oop"
      ],
      "metadata": {
        "id": "H_YDhnNNMdCH"
      }
    },
    {
      "cell_type": "code",
      "execution_count": 1,
      "metadata": {
        "colab": {
          "base_uri": "https://localhost:8080/"
        },
        "id": "AKFNl2coLSwE",
        "outputId": "a9cb1db9-50f9-4490-c3d3-57f181910430"
      },
      "outputs": [
        {
          "output_type": "stream",
          "name": "stdout",
          "text": [
            "Registration successful.\n",
            "Login successful.\n",
            "Deposit of 100 successful.\n",
            "Your current balance is: 100\n",
            "Withdrawal of 50 successful.\n",
            "Your current balance is: 50\n"
          ]
        }
      ],
      "source": [
        "class Bank:\n",
        "    def __init__(self):\n",
        "        self.users = {}\n",
        "\n",
        "    def register(self, username, password):\n",
        "        if username in self.users:\n",
        "            print(\"Username already exists. Please choose a different one.\")\n",
        "            return False\n",
        "        self.users[username] = {'password': password, 'balance': 0}\n",
        "        print(\"Registration successful.\")\n",
        "        return True\n",
        "\n",
        "    def login(self, username, password):\n",
        "        if username in self.users and self.users[username]['password'] == password:\n",
        "            print(\"Login successful.\")\n",
        "            return True\n",
        "        print(\"Invalid username or password.\")\n",
        "        return False\n",
        "\n",
        "    def check_balance(self, username):\n",
        "        if username in self.users:\n",
        "            balance = self.users[username]['balance']\n",
        "            print(f\"Your current balance is: {balance}\")\n",
        "        else:\n",
        "            print(\"User not found.\")\n",
        "\n",
        "    def deposit(self, username, amount):\n",
        "        if username in self.users:\n",
        "            self.users[username]['balance'] += amount\n",
        "            print(f\"Deposit of {amount} successful.\")\n",
        "            self.check_balance(username)\n",
        "        else:\n",
        "            print(\"User not found.\")\n",
        "\n",
        "    def withdraw(self, username, amount):\n",
        "        if username in self.users:\n",
        "            if self.users[username]['balance'] >= amount:\n",
        "                self.users[username]['balance'] -= amount\n",
        "                print(f\"Withdrawal of {amount} successful.\")\n",
        "                self.check_balance(username)\n",
        "            else:\n",
        "                print(\"Insufficient balance.\")\n",
        "        else:\n",
        "            print(\"User not found.\")\n",
        "\n",
        "bank = Bank()\n",
        "bank.register(\"user1\", \"password1\")\n",
        "bank.login(\"user1\", \"password1\")\n",
        "bank.deposit(\"user1\", 100)\n",
        "bank.withdraw(\"user1\", 50)\n"
      ]
    },
    {
      "cell_type": "code",
      "source": [
        "class Library:\n",
        "    def __init__(self):\n",
        "        self.gameslist = []\n",
        "        self.lenders = {}\n",
        "        self.donors = {}\n",
        "\n",
        "    def games(self):\n",
        "        return self.gameslist\n",
        "\n",
        "    def lend(self, game, borrower):\n",
        "        if game in self.gameslist:\n",
        "            self.gameslist.remove(game)\n",
        "            self.lenders[borrower] = game\n",
        "            print(f\"{game} has been lent to {borrower}.\")\n",
        "        else:\n",
        "            print(f\"{game} is not available in the library.\")\n",
        "\n",
        "    def returnb(self, game, borrower):\n",
        "        if borrower in self.lenders and self.lenders[borrower] == game:\n",
        "            self.gameslist.append(game)\n",
        "            del self.lenders[borrower]\n",
        "            print(f\"{game} has been returned by {borrower}.\")\n",
        "        else:\n",
        "            print(f\"{borrower} does not have {game} borrowed.\")\n",
        "\n",
        "    def donate(self, game, donor):\n",
        "        self.gameslist.append(game)\n",
        "        self.donors[donor] = game\n",
        "        print(f\"{game} has been donated by {donor}.\")\n",
        "\n",
        "\n",
        "library = Library()\n",
        "library.donate(\"Chess\", \"Eman\")\n",
        "library.donate(\"Monopoly\", \"Afaf\")\n",
        "print(\"Games in the library:\", library.games())\n",
        "\n",
        "library.lend(\"Chess\", \"Moheb\")\n",
        "library.lend(\"Monopoly\", \"Afaf\")\n",
        "print(\"Games in the library:\", library.games())\n",
        "\n",
        "library.returnb(\"Monopoly\", \"Afaf\")\n",
        "print(\"Games in the library:\", library.games())\n"
      ],
      "metadata": {
        "colab": {
          "base_uri": "https://localhost:8080/"
        },
        "id": "FJHk9GqvLcwO",
        "outputId": "ad4a1f2e-841f-440c-d9f7-daa77bd7078e"
      },
      "execution_count": 3,
      "outputs": [
        {
          "output_type": "stream",
          "name": "stdout",
          "text": [
            "Chess has been donated by Eman.\n",
            "Monopoly has been donated by Afaf.\n",
            "Games in the library: ['Chess', 'Monopoly']\n",
            "Chess has been lent to Moheb.\n",
            "Monopoly has been lent to Afaf.\n",
            "Games in the library: []\n",
            "Monopoly has been returned by Afaf.\n",
            "Games in the library: ['Monopoly']\n"
          ]
        }
      ]
    }
  ]
}